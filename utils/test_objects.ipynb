{
 "cells": [
  {
   "cell_type": "code",
   "execution_count": 130,
   "metadata": {},
   "outputs": [],
   "source": [
    "#Seat \n",
    "import random\n",
    "class Seat:\n",
    "    def __init__(self, occupant = \"\", free = True):\n",
    "        self.free = free\n",
    "        self.occupant = occupant\n",
    "\n",
    "    def set_occupant(self, name):\n",
    "        if self.free:\n",
    "            self.occupant = name\n",
    "            self.free = False\n",
    "            return f\"{name} is seated\"\n",
    "        else:\n",
    "            raise Exception (\"Look for another seat\")\n",
    "\n",
    "    def remove_occupant(self):\n",
    "        if self.free == False:\n",
    "            self.free = True\n",
    "            self.occupant = \"\"\n",
    "            return f\"The student was removed, the seat is free now\"\n",
    "\n",
    "class Table():\n",
    "    def __init__(self, seats:list, capacity= 4):\n",
    "        self.capacity = capacity\n",
    "        self.seats = [Seat() for s in seats]\n",
    "\n",
    "\n",
    "    def has_free_spot(self):\n",
    "        for s in self.seats:\n",
    "            if s.free == True:\n",
    "                return True\n",
    "        return False\n",
    "\n",
    "    def assign_seat(self, name):\n",
    "        for s in self.seats:\n",
    "            if self.has_free_spot == True:\n",
    "                s.set_occupant(name)\n",
    "\n",
    "    def left_capacity(self):\n",
    "        free_seats = 0\n",
    "        for s in self.seats:\n",
    "            if s.free == True:\n",
    "                free_seats += 1\n",
    "        return free_seats\n",
    "    \n",
    "\n"
   ]
  },
  {
   "cell_type": "code",
   "execution_count": 129,
   "metadata": {},
   "outputs": [],
   "source": [
    "#s1 = Seat()\n",
    "#s2 = Seat()\n",
    "#s3 = Seat()\n",
    "#s4 = Seat()\n",
    "list_of_s = [s1, s2, s3, s4]\n",
    "list_of_p = [\"sasha\", \"aliya\", \"marat\", \"valya\", \"samira\"]\n",
    "\n",
    "t1 = Table(list_of_s)\n",
    "\n",
    "for p in list_of_p:\n",
    "    t1.assign_seat(p)\n",
    "    \n"
   ]
  }
 ],
 "metadata": {
  "kernelspec": {
   "display_name": "Python 3",
   "language": "python",
   "name": "python3"
  },
  "language_info": {
   "codemirror_mode": {
    "name": "ipython",
    "version": 3
   },
   "file_extension": ".py",
   "mimetype": "text/x-python",
   "name": "python",
   "nbconvert_exporter": "python",
   "pygments_lexer": "ipython3",
   "version": "3.10.11"
  }
 },
 "nbformat": 4,
 "nbformat_minor": 2
}
